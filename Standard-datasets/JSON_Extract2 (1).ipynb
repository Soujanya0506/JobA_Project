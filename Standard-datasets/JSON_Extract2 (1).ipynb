{
  "cells": [
    {
      "cell_type": "code",
      "execution_count": null,
      "id": "f0aabad2",
      "metadata": {
        "id": "f0aabad2",
        "outputId": "0146bb60-a3d0-4408-e646-474567a04422"
      },
      "outputs": [
        {
          "name": "stdout",
          "output_type": "stream",
          "text": [
            "   Product  Price\n",
            "0  EARBUDS  $49.9\n",
            "1   LAPTOP   None\n",
            "2   GAMING   None\n"
          ]
        }
      ],
      "source": [
        "import pandas as pd\n",
        "import json\n",
        "\n",
        "# Read the JSON file\n",
        "with open('textjson.txt', 'r') as json_file:\n",
        "    data = json.load(json_file)\n",
        "\n",
        "# Initialize variables to store the extracted data\n",
        "earbuds_data = None\n",
        "price_data = None\n",
        "\n",
        "laptop_data = None\n",
        "laptop_price = None\n",
        "\n",
        "gaming_data = None\n",
        "gaming_price = None\n",
        "\n",
        "# Iterate through the data to find \"EARBUDS\" and \"$49.9\"\n",
        "for item in data[0][\"words\"]:\n",
        "\n",
        "    if item[\"content\"] == \"EARBUDS\":\n",
        "        earbuds_data = item[\"content\"]\n",
        "    elif item[\"content\"] == \"$49.9\":\n",
        "        price_data = item[\"content\"]\n",
        "\n",
        "    elif item[\"content\"] == \"LAPTOP\":\n",
        "        laptop_data = item[\"content\"]\n",
        "    elif item[\"content\"] == \"$49.9\":\n",
        "        laptop_price = item[\"content\"]\n",
        "\n",
        "    elif item[\"content\"] == \"GAMING\":\n",
        "        gaming_data = item[\"content\"]\n",
        "    elif item[\"content\"] == \"$49.9\":\n",
        "        gaming_price = item[\"content\"]\n",
        "\n",
        "# Create a DataFrame\n",
        "df = pd.DataFrame({\"Product\": [earbuds_data, laptop_data, gaming_data], \"Price\": [price_data, laptop_price, gaming_price]})\n",
        "\n",
        "print(df)\n"
      ]
    },
    {
      "cell_type": "code",
      "source": [],
      "metadata": {
        "id": "ydW8GHtGH2Gl"
      },
      "id": "ydW8GHtGH2Gl",
      "execution_count": null,
      "outputs": []
    },
    {
      "cell_type": "code",
      "execution_count": null,
      "id": "aed0c4a8",
      "metadata": {
        "id": "aed0c4a8"
      },
      "outputs": [],
      "source": [
        "# Write the DataFrame to an XLSX file\n",
        "df.to_excel('output_data.xlsx', index=False)"
      ]
    },
    {
      "cell_type": "code",
      "execution_count": null,
      "id": "f64e2c52",
      "metadata": {
        "scrolled": true,
        "id": "f64e2c52"
      },
      "outputs": [],
      "source": [
        "import pandas as pd\n",
        "import json\n",
        "\n",
        "# Read the JSON file\n",
        "with open('textjson.txt', 'r') as json_file:\n",
        "    data = json.load(json_file)\n",
        "\n",
        "# Initialize variables to store the extracted data\n",
        "products_data = {}\n",
        "\n",
        "# Define the products you want to extract\n",
        "products_to_extract = [\"EARBUDS\", \"LAPTOP\", \"GAMING\"]\n",
        "\n",
        "# Iterate through the data to find the specified products\n",
        "for product_name in products_to_extract:\n",
        "    for item in data[0][\"words\"]:\n",
        "        if item[\"content\"] == product_name:\n",
        "            products_data[product_name] = item[\"content\"]\n",
        "\n",
        "# Create a DataFrame from the extracted data\n",
        "df = pd.DataFrame(products_data.items(), columns=[\"Product\", \"Description\"])\n",
        "\n",
        "# Write the DataFrame to an XLSX file\n",
        "df.to_excel('output_data2.xlsx', index=False)\n"
      ]
    },
    {
      "cell_type": "code",
      "execution_count": null,
      "id": "34053704",
      "metadata": {
        "collapsed": true,
        "id": "34053704",
        "outputId": "8b7f7abf-30b6-48f3-8cc3-8019679b0308"
      },
      "outputs": [
        {
          "ename": "KeyError",
          "evalue": "'products'",
          "output_type": "error",
          "traceback": [
            "\u001b[1;31m---------------------------------------------------------------------------\u001b[0m",
            "\u001b[1;31mKeyError\u001b[0m                                  Traceback (most recent call last)",
            "\u001b[1;32m<ipython-input-8-ad5c2137448c>\u001b[0m in \u001b[0;36m<module>\u001b[1;34m\u001b[0m\n\u001b[0;32m      8\u001b[0m \u001b[1;31m# Extract product names and prices\u001b[0m\u001b[1;33m\u001b[0m\u001b[1;33m\u001b[0m\u001b[1;33m\u001b[0m\u001b[0m\n\u001b[0;32m      9\u001b[0m products_data = {\n\u001b[1;32m---> 10\u001b[1;33m     \u001b[1;34m'Product'\u001b[0m\u001b[1;33m:\u001b[0m \u001b[1;33m[\u001b[0m\u001b[0mproduct\u001b[0m\u001b[1;33m[\u001b[0m\u001b[1;34m'name'\u001b[0m\u001b[1;33m]\u001b[0m \u001b[1;32mfor\u001b[0m \u001b[0mproduct\u001b[0m \u001b[1;32min\u001b[0m \u001b[0mdata\u001b[0m\u001b[1;33m[\u001b[0m\u001b[1;36m0\u001b[0m\u001b[1;33m]\u001b[0m\u001b[1;33m[\u001b[0m\u001b[1;34m'products'\u001b[0m\u001b[1;33m]\u001b[0m\u001b[1;33m]\u001b[0m\u001b[1;33m,\u001b[0m\u001b[1;33m\u001b[0m\u001b[1;33m\u001b[0m\u001b[0m\n\u001b[0m\u001b[0;32m     11\u001b[0m     \u001b[1;34m'Price'\u001b[0m\u001b[1;33m:\u001b[0m \u001b[1;33m[\u001b[0m\u001b[0mproduct\u001b[0m\u001b[1;33m[\u001b[0m\u001b[1;34m'price'\u001b[0m\u001b[1;33m]\u001b[0m \u001b[1;32mfor\u001b[0m \u001b[0mproduct\u001b[0m \u001b[1;32min\u001b[0m \u001b[0mdata\u001b[0m\u001b[1;33m[\u001b[0m\u001b[1;36m0\u001b[0m\u001b[1;33m]\u001b[0m\u001b[1;33m[\u001b[0m\u001b[1;34m'products'\u001b[0m\u001b[1;33m]\u001b[0m\u001b[1;33m]\u001b[0m\u001b[1;33m\u001b[0m\u001b[1;33m\u001b[0m\u001b[0m\n\u001b[0;32m     12\u001b[0m }\n",
            "\u001b[1;31mKeyError\u001b[0m: 'products'"
          ]
        }
      ],
      "source": [
        "import pandas as pd\n",
        "import json\n",
        "\n",
        "# Read the modified JSON file\n",
        "with open('textjson.txt', 'r') as json_file:\n",
        "    data = json.load(json_file)\n",
        "\n",
        "# Extract product names and prices\n",
        "products_data = {\n",
        "    'Product': [product['name'] for product in data[0]['products']],\n",
        "    'Price': [product['price'] for product in data[0]['products']]\n",
        "}\n",
        "\n",
        "# Create a DataFrame from the extracted data\n",
        "df = pd.DataFrame(products_data)\n",
        "\n",
        "# Write the DataFrame to an XLSX file\n",
        "df.to_excel('output_data3.xlsx', index=False)\n"
      ]
    },
    {
      "cell_type": "code",
      "execution_count": null,
      "id": "bd1a2feb",
      "metadata": {
        "id": "bd1a2feb"
      },
      "outputs": [],
      "source": [
        "# # Extract \"EARBUDS\" and \"$49.9\" and store in a DataFrame\n",
        "# earbuds_data = None\n",
        "# price_data = None\n",
        "\n",
        "# # for item in data[0][\"words\"]:\n",
        "#     if item[\"content\"] == \"EARBUDS\":\n",
        "#         earbuds_data = item[\"content\"]\n",
        "#     elif item[\"content\"] == \"$49.9\":\n",
        "#         price_data = item[\"content\"]\n",
        "\n",
        "# # Create a DataFrame\n",
        "# df = pd.DataFrame({\"Product\": [earbuds_data], \"Price\": [price_data]})\n",
        "\n",
        "# print(df)"
      ]
    },
    {
      "cell_type": "code",
      "execution_count": null,
      "id": "f420a4bf",
      "metadata": {
        "id": "f420a4bf"
      },
      "outputs": [],
      "source": []
    },
    {
      "cell_type": "code",
      "execution_count": null,
      "id": "3529a0eb",
      "metadata": {
        "id": "3529a0eb"
      },
      "outputs": [],
      "source": []
    },
    {
      "cell_type": "markdown",
      "id": "601b8619",
      "metadata": {
        "id": "601b8619"
      },
      "source": [
        "## Completely Working"
      ]
    },
    {
      "cell_type": "code",
      "execution_count": null,
      "id": "9abf6644",
      "metadata": {
        "id": "9abf6644"
      },
      "outputs": [],
      "source": [
        "import pandas as pd\n",
        "import json\n",
        "\n",
        "# Read the JSON file\n",
        "with open('textjson.txt', 'r') as json_file:\n",
        "    data = json.load(json_file)\n",
        "\n",
        "# Initialize variables to store the extracted data\n",
        "product_data = []\n",
        "\n",
        "# Specify the products to extract\n",
        "products_to_extract = [\"EARBUDS\", \"LAPTOP\", \"GAMING\"]\n",
        "\n",
        "# Iterate through the data to find the specified products\n",
        "for item in data[0][\"words\"]:\n",
        "    if item[\"content\"] in products_to_extract:\n",
        "        product_data.append({\"Product\": item[\"content\"], \"Price\": None})\n",
        "\n",
        "# Find the prices and associate them with the products\n",
        "for item in data[0][\"words\"]:\n",
        "    if item[\"content\"].startswith(\"$\"):\n",
        "        for product in product_data:\n",
        "            if product[\"Price\"] is None:\n",
        "                product[\"Price\"] = item[\"content\"]\n",
        "\n",
        "# Create a DataFrame\n",
        "df = pd.DataFrame(product_data)\n",
        "\n",
        "# Write the DataFrame to an XLSX file\n",
        "df.to_excel('output_dataa.xlsx', index=False)\n"
      ]
    },
    {
      "cell_type": "code",
      "execution_count": null,
      "id": "6dbaa596",
      "metadata": {
        "id": "6dbaa596",
        "outputId": "533f1d49-2273-4556-bdc3-1dabc8f66c9f"
      },
      "outputs": [
        {
          "name": "stdout",
          "output_type": "stream",
          "text": [
            "ELECTRONIC\n",
            "CATALOGUE\n",
            "\n",
            "EARBUDS $49.9\n",
            "\n",
            "LAPTOP $49.9\n",
            "\n",
            "a | GAMING $49.9\n",
            "| _sHopnow |\n",
            "\n",
            "\n",
            "Empty DataFrame\n",
            "Columns: []\n",
            "Index: []\n"
          ]
        }
      ],
      "source": [
        "from PIL import Image\n",
        "import pytesseract\n",
        "import pandas as pd\n",
        "\n",
        "# Set the Tesseract executable path (replace with your actual path)\n",
        "pytesseract.pytesseract.tesseract_cmd = r'D:\\Tesserect-OCR\\tesseract.exe'\n",
        "\n",
        "# Open the preprocessed image\n",
        "image = Image.open('test3img.png')\n",
        "\n",
        "# Convert the image to grayscale\n",
        "image = image.convert('L')\n",
        "\n",
        "# Use pytesseract to extract text\n",
        "extracted_text = pytesseract.image_to_string(image)\n",
        "print(extracted_text)\n",
        "\n",
        "# Initialize a list to store extracted data\n",
        "product_data = []\n",
        "\n",
        "# Extract product names and prices\n",
        "current_product = None\n",
        "\n",
        "# Iterate through lines in the extracted text\n",
        "for line in extracted_text.splitlines():\n",
        "    # If the line contains a \"$\" symbol, assume it's a price\n",
        "    if \"$\" in line:\n",
        "        if current_product:\n",
        "            product_data.append({\"Product\": current_product, \"Price\": line})\n",
        "            current_product = None\n",
        "    else:\n",
        "        # Otherwise, treat it as a potential product name\n",
        "        current_product = line\n",
        "\n",
        "# Create a DataFrame\n",
        "df = pd.DataFrame(product_data)\n",
        "\n",
        "# Print the DataFrame\n",
        "print(df)\n"
      ]
    },
    {
      "cell_type": "code",
      "execution_count": null,
      "id": "45e90446",
      "metadata": {
        "id": "45e90446",
        "outputId": "98025a10-299e-4bfb-bfc5-9ee895e39d8c"
      },
      "outputs": [
        {
          "name": "stdout",
          "output_type": "stream",
          "text": [
            "ELECTRONIC\n",
            "CATALOGUE\n",
            "\n",
            "EARBUDS $49.9\n",
            "\n",
            "LAPTOP $49.9\n",
            "\n",
            "a | GAMING $49.9\n",
            "| _sHopnow |\n",
            "\n",
            "\n",
            "Empty DataFrame\n",
            "Columns: []\n",
            "Index: []\n"
          ]
        }
      ],
      "source": [
        "from PIL import Image\n",
        "import pytesseract\n",
        "import pandas as pd\n",
        "import re\n",
        "\n",
        "# Set the Tesseract executable path (replace with your actual path)\n",
        "pytesseract.pytesseract.tesseract_cmd = r'D:\\Tesserect-OCR\\tesseract.exe'\n",
        "\n",
        "# Open the preprocessed image\n",
        "image = Image.open('test3img.png')\n",
        "\n",
        "# Convert the image to grayscale\n",
        "image = image.convert('L')\n",
        "\n",
        "# Use pytesseract to extract text\n",
        "extracted_text = pytesseract.image_to_string(image)\n",
        "print(extracted_text)\n",
        "\n",
        "# Initialize a list to store extracted data\n",
        "product_data = []\n",
        "\n",
        "# Extract product names and prices\n",
        "current_product = None\n",
        "price_regex = r'\\$\\d+(\\.\\d{2})?'\n",
        "\n",
        "# Iterate through lines in the extracted text\n",
        "for line in extracted_text.splitlines():\n",
        "    # Remove extra spaces and special characters\n",
        "    cleaned_line = re.sub(r'[^A-Z0-9$]', ' ', line.strip())\n",
        "\n",
        "    # If the line contains a product name\n",
        "    if len(cleaned_line) > 0 and not re.match(price_regex, cleaned_line):\n",
        "        current_product = cleaned_line\n",
        "    # If the line contains a price\n",
        "    elif re.match(price_regex, cleaned_line):\n",
        "        product_data.append({\"Product\": current_product, \"Price\": cleaned_line})\n",
        "\n",
        "# Create a DataFrame\n",
        "df = pd.DataFrame(product_data)\n",
        "\n",
        "# Print the DataFrame\n",
        "print(df)\n"
      ]
    },
    {
      "cell_type": "code",
      "execution_count": null,
      "id": "508cd6e2",
      "metadata": {
        "id": "508cd6e2"
      },
      "outputs": [],
      "source": [
        "# Write the DataFrame to an XLSX file\n",
        "df.to_excel('output_data_a.xlsx', index=False)"
      ]
    },
    {
      "cell_type": "code",
      "execution_count": null,
      "id": "2508b250",
      "metadata": {
        "id": "2508b250",
        "outputId": "1eb67dd3-6e56-4df2-a2fe-213062c085eb"
      },
      "outputs": [
        {
          "name": "stdout",
          "output_type": "stream",
          "text": [
            "ELECTRONIC\n",
            "CATALOGUE\n",
            "\n",
            "EARBUDS $49.9\n",
            "\n",
            "LAPTOP $49.9\n",
            "\n",
            "a | GAMING $49.9\n",
            "| _sHopnow |\n",
            "\n",
            "\n",
            "                Product  Price\n",
            "0  ELECTRONIC CATALOGUE  $49.9\n",
            "1                        $49.9\n"
          ]
        }
      ],
      "source": [
        "# Set the Tesseract executable path (replace with your actual path)\n",
        "pytesseract.pytesseract.tesseract_cmd = r'D:\\Tesserect-OCR\\tesseract.exe'\n",
        "\n",
        "# Open the preprocessed image\n",
        "image = Image.open('test3img.png')\n",
        "\n",
        "# Convert the image to grayscale\n",
        "image = image.convert('L')\n",
        "\n",
        "# Use pytesseract to extract text\n",
        "extracted_text = pytesseract.image_to_string(image)\n",
        "print(extracted_text)\n",
        "\n",
        "# Initialize lists to store extracted data\n",
        "product_data = []\n",
        "current_product = None\n",
        "\n",
        "# Define regular expressions for product names and prices\n",
        "product_name_pattern = re.compile(r'^[A-Z\\s]+$', re.MULTILINE)\n",
        "# print(product_name_pattern)\n",
        "price_pattern = re.compile(r'(\\$[\\d.]+)')\n",
        "\n",
        "# Find all product names in the extracted text\n",
        "product_names = product_name_pattern.findall(extracted_text)\n",
        "# print(product_names)\n",
        "\n",
        "# Find all prices in the extracted text\n",
        "prices = price_pattern.findall(extracted_text)\n",
        "\n",
        "# Iterate through the product names and prices\n",
        "for product_name, price in zip(product_names, prices):\n",
        "    # Clean up product names (remove extra spaces and newlines)\n",
        "    cleaned_product_name = ' '.join(product_name.strip().split())\n",
        "\n",
        "    product_data.append({\"Product\": cleaned_product_name, \"Price\": price})\n",
        "\n",
        "# Create a DataFrame\n",
        "df = pd.DataFrame(product_data)\n",
        "\n",
        "# Print the DataFrame\n",
        "print(df)"
      ]
    },
    {
      "cell_type": "code",
      "execution_count": null,
      "id": "3c7b37ca",
      "metadata": {
        "id": "3c7b37ca"
      },
      "outputs": [],
      "source": [
        "# from PIL import Image\n",
        "# import pytesseract\n",
        "# import pandas as pd\n",
        "# import re\n",
        "\n",
        "# # Set the Tesseract executable path (replace with your actual path)\n",
        "# pytesseract.pytesseract.tesseract_cmd = r'D:\\Tesserect-OCR\\tesseract.exe'\n",
        "\n",
        "# # Open the preprocessed image\n",
        "# image = Image.open('test3img.png')\n",
        "\n",
        "# # Convert the image to grayscale\n",
        "# image = image.convert('L')\n",
        "\n",
        "# # Use pytesseract to extract text\n",
        "# extracted_text = pytesseract.image_to_string(image)\n",
        "\n",
        "# # Initialize lists to store extracted data\n",
        "# product_data = []\n",
        "\n",
        "# # Define a regular expression pattern to capture product names and prices\n",
        "# pattern = re.compile(r'([A-Z\\s]+)\\s+(\\$\\d+\\.\\d{2})', re.MULTILINE)\n",
        "\n",
        "# # Find all product names and prices in the extracted text\n",
        "# matches = pattern.findall(extracted_text)\n",
        "\n",
        "# # Iterate through the matches and extract product names and prices\n",
        "# for match in matches:\n",
        "#     product_data.append({\"Product\": match[0].strip(), \"Price\": match[1]})\n",
        "\n",
        "# # Create a DataFrame\n",
        "# df = pd.DataFrame(product_data)\n",
        "\n",
        "# # Print the DataFrame\n",
        "# print(df)\n"
      ]
    },
    {
      "cell_type": "code",
      "execution_count": null,
      "id": "13536d21",
      "metadata": {
        "id": "13536d21"
      },
      "outputs": [],
      "source": [
        "# import pytesseract\n",
        "# from PIL import Image\n",
        "# import re\n",
        "# import pandas as pd\n",
        "\n",
        "# # Set the Tesseract executable path (replace with your actual path)\n",
        "# pytesseract.pytesseract.tesseract_cmd = r'D:\\Tesserect-OCR\\tesseract.exe'\n",
        "\n",
        "# # Open the preprocessed image\n",
        "# image = Image.open('test3img.png')\n",
        "\n",
        "# # Convert the image to grayscale\n",
        "# image = image.convert('L')\n",
        "\n",
        "# # Use pytesseract to extract text\n",
        "# extracted_text = pytesseract.image_to_string(image)\n",
        "\n",
        "# # Initialize lists to store extracted data\n",
        "# product_data = []\n",
        "\n",
        "# # Define regular expressions for product names and prices\n",
        "# product_name_pattern = re.compile(r'^[A-Z\\s]+$', re.MULTILINE)\n",
        "# price_pattern = re.compile(r'(\\$[\\d.]+')\n",
        "\n",
        "# # Find all product names in the extracted text\n",
        "# product_names = product_name_pattern.findall(extracted_text)\n",
        "\n",
        "# # Find all prices in the extracted text\n",
        "# prices = price_pattern.findall(extracted_text)\n",
        "\n",
        "# # Iterate through the product names and prices\n",
        "# for product_name, price in zip(product_names, prices):\n",
        "#     # Clean up product names (remove extra spaces and newlines)\n",
        "#     cleaned_product_name = ' '.join(product_name.strip().split())\n",
        "\n",
        "#     product_data.append({\"Product\": cleaned_product_name, \"Price\": price})\n",
        "\n",
        "# # Create a DataFrame\n",
        "# df = pd.DataFrame(product_data)\n",
        "\n",
        "# # Print the DataFrame\n",
        "# print(df)\n"
      ]
    },
    {
      "cell_type": "code",
      "execution_count": null,
      "id": "53eb188f",
      "metadata": {
        "id": "53eb188f",
        "outputId": "021a4c25-22a6-4bfc-d35a-82c89ef6d20b"
      },
      "outputs": [
        {
          "name": "stdout",
          "output_type": "stream",
          "text": [
            "                Product  Price\n",
            "0  ELECTRONIC CATALOGUE  $49.9\n",
            "1                        $49.9\n"
          ]
        }
      ],
      "source": [
        "import pytesseract\n",
        "from PIL import Image\n",
        "import re\n",
        "import pandas as pd\n",
        "\n",
        "# Set the Tesseract executable path (replace with your actual path)\n",
        "pytesseract.pytesseract.tesseract_cmd = r'D:\\Tesserect-OCR\\tesseract.exe'\n",
        "\n",
        "# Open the preprocessed image\n",
        "image = Image.open('test3img.png')\n",
        "\n",
        "# Convert the image to grayscale\n",
        "image = image.convert('L')\n",
        "\n",
        "# Use pytesseract to extract text\n",
        "extracted_text = pytesseract.image_to_string(image)\n",
        "\n",
        "# Initialize lists to store extracted data\n",
        "product_data = []\n",
        "\n",
        "# Define regular expressions for product names and prices\n",
        "product_name_pattern = re.compile(r'^[A-Z\\s]+$', re.MULTILINE)\n",
        "price_pattern = re.compile(r'(\\$[\\d.]+)')\n",
        "\n",
        "# Find all product names in the extracted text\n",
        "product_names = product_name_pattern.findall(extracted_text)\n",
        "\n",
        "# Find all prices in the extracted text\n",
        "prices = price_pattern.findall(extracted_text)\n",
        "\n",
        "# Iterate through the product names and prices\n",
        "for product_name, price in zip(product_names, prices):\n",
        "    # Clean up product names (remove extra spaces and newlines)\n",
        "    cleaned_product_name = ' '.join(product_name.strip().split())\n",
        "\n",
        "    product_data.append({\"Product\": cleaned_product_name, \"Price\": price})\n",
        "\n",
        "# Create a DataFrame\n",
        "df = pd.DataFrame(product_data)\n",
        "\n",
        "# Print the DataFrame\n",
        "print(df)\n"
      ]
    },
    {
      "cell_type": "code",
      "execution_count": null,
      "id": "b47e6deb",
      "metadata": {
        "id": "b47e6deb",
        "outputId": "a31068cb-cf08-4bbf-8d1e-2403bc0f4bcf"
      },
      "outputs": [
        {
          "name": "stdout",
          "output_type": "stream",
          "text": [
            "                Product  Price\n",
            "0  ELECTRONIC CATALOGUE  $49.9\n"
          ]
        }
      ],
      "source": [
        "import pytesseract\n",
        "from PIL import Image\n",
        "import re\n",
        "import pandas as pd\n",
        "\n",
        "# Set the Tesseract executable path (replace with your actual path)\n",
        "pytesseract.pytesseract.tesseract_cmd = r'D:\\Tesserect-OCR\\tesseract.exe'\n",
        "\n",
        "# Open the preprocessed image\n",
        "image = Image.open('test3img.png')\n",
        "\n",
        "# Convert the image to grayscale\n",
        "image = image.convert('L')\n",
        "\n",
        "# Use pytesseract to extract text\n",
        "extracted_text = pytesseract.image_to_string(image)\n",
        "\n",
        "# Initialize lists to store extracted data\n",
        "product_data = []\n",
        "\n",
        "# Define regular expressions for product names and prices\n",
        "product_name_pattern = re.compile(r'^[A-Z\\s]+$', re.MULTILINE)\n",
        "price_pattern = re.compile(r'(\\$[\\d.]+)')\n",
        "\n",
        "# Find all product names in the extracted text\n",
        "product_names = product_name_pattern.findall(extracted_text)\n",
        "\n",
        "# Find all prices in the extracted text\n",
        "prices = price_pattern.findall(extracted_text)\n",
        "\n",
        "# Initialize variables to store product and price\n",
        "current_product = None\n",
        "current_price = None\n",
        "\n",
        "# Iterate through the product names and prices\n",
        "for product_name, price in zip(product_names, prices):\n",
        "    # Clean up product names (remove extra spaces and newlines)\n",
        "    cleaned_product_name = ' '.join(product_name.strip().split())\n",
        "\n",
        "    # If the product name is not empty, set it as the current product\n",
        "    if cleaned_product_name:\n",
        "        current_product = cleaned_product_name\n",
        "\n",
        "    # If the price is not empty, set it as the current price\n",
        "    if price:\n",
        "        current_price = price\n",
        "\n",
        "    # If we have both a product and a price, add them to the list\n",
        "    if current_product and current_price:\n",
        "        product_data.append({\"Product\": current_product, \"Price\": current_price})\n",
        "        current_product = None\n",
        "        current_price = None\n",
        "\n",
        "# Create a DataFrame\n",
        "df = pd.DataFrame(product_data)\n",
        "\n",
        "# Print the DataFrame\n",
        "print(df)\n"
      ]
    },
    {
      "cell_type": "markdown",
      "source": [
        "Trial 2"
      ],
      "metadata": {
        "id": "xdsjkAl6Hj5E"
      },
      "id": "xdsjkAl6Hj5E"
    },
    {
      "cell_type": "code",
      "source": [
        "from PIL import Image\n",
        "\n",
        "image = Image.open(\"/content/picture_hand_highlighted.PNG\")"
      ],
      "metadata": {
        "id": "-q-1b7w2HlEB"
      },
      "id": "-q-1b7w2HlEB",
      "execution_count": null,
      "outputs": []
    },
    {
      "cell_type": "code",
      "source": [
        "image = image.convert(\"L\")"
      ],
      "metadata": {
        "id": "2XMB54DRIEM9"
      },
      "id": "2XMB54DRIEM9",
      "execution_count": null,
      "outputs": []
    },
    {
      "cell_type": "code",
      "source": [
        "image = image.point(lambda p: 255 if p > 128 else 0)"
      ],
      "metadata": {
        "id": "OHSs3qf7ITx3"
      },
      "id": "OHSs3qf7ITx3",
      "execution_count": null,
      "outputs": []
    },
    {
      "cell_type": "code",
      "source": [
        "import cv2\n",
        "import numpy as np\n",
        "\n",
        "lower_yellow = np.array([20, 100, 100])\n",
        "upper_yellow = np.array([30, 255, 255])\n",
        "\n",
        "highlighted_areas = cv2.inRange(image, lower_yellow, upper_yellow)"
      ],
      "metadata": {
        "colab": {
          "base_uri": "https://localhost:8080/",
          "height": 275
        },
        "id": "aQcWGkTMIboN",
        "outputId": "5f164fa4-3b6d-4787-be4b-87f22d577bf7"
      },
      "id": "aQcWGkTMIboN",
      "execution_count": null,
      "outputs": [
        {
          "output_type": "error",
          "ename": "error",
          "evalue": "ignored",
          "traceback": [
            "\u001b[0;31m---------------------------------------------------------------------------\u001b[0m",
            "\u001b[0;31merror\u001b[0m                                     Traceback (most recent call last)",
            "\u001b[0;32m<ipython-input-6-b73c7ef11ac5>\u001b[0m in \u001b[0;36m<cell line: 7>\u001b[0;34m()\u001b[0m\n\u001b[1;32m      5\u001b[0m \u001b[0mupper_yellow\u001b[0m \u001b[0;34m=\u001b[0m \u001b[0mnp\u001b[0m\u001b[0;34m.\u001b[0m\u001b[0marray\u001b[0m\u001b[0;34m(\u001b[0m\u001b[0;34m[\u001b[0m\u001b[0;36m30\u001b[0m\u001b[0;34m,\u001b[0m \u001b[0;36m255\u001b[0m\u001b[0;34m,\u001b[0m \u001b[0;36m255\u001b[0m\u001b[0;34m]\u001b[0m\u001b[0;34m)\u001b[0m\u001b[0;34m\u001b[0m\u001b[0;34m\u001b[0m\u001b[0m\n\u001b[1;32m      6\u001b[0m \u001b[0;34m\u001b[0m\u001b[0m\n\u001b[0;32m----> 7\u001b[0;31m \u001b[0mhighlighted_areas\u001b[0m \u001b[0;34m=\u001b[0m \u001b[0mcv2\u001b[0m\u001b[0;34m.\u001b[0m\u001b[0minRange\u001b[0m\u001b[0;34m(\u001b[0m\u001b[0mimage\u001b[0m\u001b[0;34m,\u001b[0m \u001b[0mlower_yellow\u001b[0m\u001b[0;34m,\u001b[0m \u001b[0mupper_yellow\u001b[0m\u001b[0;34m)\u001b[0m\u001b[0;34m\u001b[0m\u001b[0;34m\u001b[0m\u001b[0m\n\u001b[0m",
            "\u001b[0;31merror\u001b[0m: OpenCV(4.8.0) :-1: error: (-5:Bad argument) in function 'inRange'\n> Overload resolution failed:\n>  - src is not a numpy array, neither a scalar\n>  - Expected Ptr<cv::UMat> for argument 'src'\n"
          ]
        }
      ]
    },
    {
      "cell_type": "code",
      "source": [
        "import cv2\n",
        "from PIL import Image\n",
        "import numpy as np\n",
        "import pytesseract\n",
        "\n",
        "image = Image.open(\"/content/Soujanya Dash latest IELTS result.jpg\")\n",
        "image = image.convert(\"L\")\n",
        "image = np.asarray(image)\n",
        "\n",
        "lower_yellow = np.full(image.shape, [20, 100, 100], dtype=np.uint8)\n",
        "upper_yellow = np.full(image.shape, [30, 255, 255], dtype=np.uint8)\n",
        "\n",
        "highlighted_areas = cv2.inRange(image, lower_yellow, upper_yellow)\n",
        "\n",
        "highlighted_text = pytesseract.image_to_string(highlighted_areas)\n",
        "\n",
        "print(highlighted_text)\n"
      ],
      "metadata": {
        "colab": {
          "base_uri": "https://localhost:8080/",
          "height": 443
        },
        "id": "qvXDlJFMIdiV",
        "outputId": "c15daa66-29be-452a-9b26-95176a827b1d"
      },
      "id": "qvXDlJFMIdiV",
      "execution_count": null,
      "outputs": [
        {
          "output_type": "error",
          "ename": "ValueError",
          "evalue": "ignored",
          "traceback": [
            "\u001b[0;31m---------------------------------------------------------------------------\u001b[0m",
            "\u001b[0;31mValueError\u001b[0m                                Traceback (most recent call last)",
            "\u001b[0;32m<ipython-input-13-63cd10b202b2>\u001b[0m in \u001b[0;36m<cell line: 10>\u001b[0;34m()\u001b[0m\n\u001b[1;32m      8\u001b[0m \u001b[0mimage\u001b[0m \u001b[0;34m=\u001b[0m \u001b[0mnp\u001b[0m\u001b[0;34m.\u001b[0m\u001b[0masarray\u001b[0m\u001b[0;34m(\u001b[0m\u001b[0mimage\u001b[0m\u001b[0;34m)\u001b[0m\u001b[0;34m\u001b[0m\u001b[0;34m\u001b[0m\u001b[0m\n\u001b[1;32m      9\u001b[0m \u001b[0;34m\u001b[0m\u001b[0m\n\u001b[0;32m---> 10\u001b[0;31m \u001b[0mlower_yellow\u001b[0m \u001b[0;34m=\u001b[0m \u001b[0mnp\u001b[0m\u001b[0;34m.\u001b[0m\u001b[0mfull\u001b[0m\u001b[0;34m(\u001b[0m\u001b[0mimage\u001b[0m\u001b[0;34m.\u001b[0m\u001b[0mshape\u001b[0m\u001b[0;34m,\u001b[0m \u001b[0;34m[\u001b[0m\u001b[0;36m20\u001b[0m\u001b[0;34m,\u001b[0m \u001b[0;36m100\u001b[0m\u001b[0;34m,\u001b[0m \u001b[0;36m100\u001b[0m\u001b[0;34m]\u001b[0m\u001b[0;34m,\u001b[0m \u001b[0mdtype\u001b[0m\u001b[0;34m=\u001b[0m\u001b[0mnp\u001b[0m\u001b[0;34m.\u001b[0m\u001b[0muint8\u001b[0m\u001b[0;34m)\u001b[0m\u001b[0;34m\u001b[0m\u001b[0;34m\u001b[0m\u001b[0m\n\u001b[0m\u001b[1;32m     11\u001b[0m \u001b[0mupper_yellow\u001b[0m \u001b[0;34m=\u001b[0m \u001b[0mnp\u001b[0m\u001b[0;34m.\u001b[0m\u001b[0mfull\u001b[0m\u001b[0;34m(\u001b[0m\u001b[0mimage\u001b[0m\u001b[0;34m.\u001b[0m\u001b[0mshape\u001b[0m\u001b[0;34m,\u001b[0m \u001b[0;34m[\u001b[0m\u001b[0;36m30\u001b[0m\u001b[0;34m,\u001b[0m \u001b[0;36m255\u001b[0m\u001b[0;34m,\u001b[0m \u001b[0;36m255\u001b[0m\u001b[0;34m]\u001b[0m\u001b[0;34m,\u001b[0m \u001b[0mdtype\u001b[0m\u001b[0;34m=\u001b[0m\u001b[0mnp\u001b[0m\u001b[0;34m.\u001b[0m\u001b[0muint8\u001b[0m\u001b[0;34m)\u001b[0m\u001b[0;34m\u001b[0m\u001b[0;34m\u001b[0m\u001b[0m\n\u001b[1;32m     12\u001b[0m \u001b[0;34m\u001b[0m\u001b[0m\n",
            "\u001b[0;32m/usr/local/lib/python3.10/dist-packages/numpy/core/numeric.py\u001b[0m in \u001b[0;36mfull\u001b[0;34m(shape, fill_value, dtype, order, like)\u001b[0m\n\u001b[1;32m    342\u001b[0m         \u001b[0mdtype\u001b[0m \u001b[0;34m=\u001b[0m \u001b[0mfill_value\u001b[0m\u001b[0;34m.\u001b[0m\u001b[0mdtype\u001b[0m\u001b[0;34m\u001b[0m\u001b[0;34m\u001b[0m\u001b[0m\n\u001b[1;32m    343\u001b[0m     \u001b[0ma\u001b[0m \u001b[0;34m=\u001b[0m \u001b[0mempty\u001b[0m\u001b[0;34m(\u001b[0m\u001b[0mshape\u001b[0m\u001b[0;34m,\u001b[0m \u001b[0mdtype\u001b[0m\u001b[0;34m,\u001b[0m \u001b[0morder\u001b[0m\u001b[0;34m)\u001b[0m\u001b[0;34m\u001b[0m\u001b[0;34m\u001b[0m\u001b[0m\n\u001b[0;32m--> 344\u001b[0;31m     \u001b[0mmultiarray\u001b[0m\u001b[0;34m.\u001b[0m\u001b[0mcopyto\u001b[0m\u001b[0;34m(\u001b[0m\u001b[0ma\u001b[0m\u001b[0;34m,\u001b[0m \u001b[0mfill_value\u001b[0m\u001b[0;34m,\u001b[0m \u001b[0mcasting\u001b[0m\u001b[0;34m=\u001b[0m\u001b[0;34m'unsafe'\u001b[0m\u001b[0;34m)\u001b[0m\u001b[0;34m\u001b[0m\u001b[0;34m\u001b[0m\u001b[0m\n\u001b[0m\u001b[1;32m    345\u001b[0m     \u001b[0;32mreturn\u001b[0m \u001b[0ma\u001b[0m\u001b[0;34m\u001b[0m\u001b[0;34m\u001b[0m\u001b[0m\n\u001b[1;32m    346\u001b[0m \u001b[0;34m\u001b[0m\u001b[0m\n",
            "\u001b[0;32m/usr/local/lib/python3.10/dist-packages/numpy/core/overrides.py\u001b[0m in \u001b[0;36mcopyto\u001b[0;34m(*args, **kwargs)\u001b[0m\n",
            "\u001b[0;31mValueError\u001b[0m: could not broadcast input array from shape (3,) into shape (1512,2016)"
          ]
        }
      ]
    },
    {
      "cell_type": "code",
      "source": [
        "!pip install pytesseract"
      ],
      "metadata": {
        "colab": {
          "base_uri": "https://localhost:8080/"
        },
        "id": "uqZfd1VQJzxx",
        "outputId": "4b5817c6-972c-4dc5-a42d-30d6050b5570"
      },
      "id": "uqZfd1VQJzxx",
      "execution_count": null,
      "outputs": [
        {
          "output_type": "stream",
          "name": "stdout",
          "text": [
            "Collecting pytesseract\n",
            "  Downloading pytesseract-0.3.10-py3-none-any.whl (14 kB)\n",
            "Requirement already satisfied: packaging>=21.3 in /usr/local/lib/python3.10/dist-packages (from pytesseract) (23.2)\n",
            "Requirement already satisfied: Pillow>=8.0.0 in /usr/local/lib/python3.10/dist-packages (from pytesseract) (9.4.0)\n",
            "Installing collected packages: pytesseract\n",
            "Successfully installed pytesseract-0.3.10\n"
          ]
        }
      ]
    },
    {
      "cell_type": "code",
      "source": [
        "import cv2\n",
        "from PIL import Image\n",
        "import numpy as np\n",
        "import pytesseract\n",
        "\n",
        "image = Image.open(\"/content/Winn Dixie Weekly Ad – Jan 26 – Feb 1, 2022.jfif\")\n",
        "image = image.convert(\"L\")\n",
        "image = np.asarray(image)\n",
        "\n",
        "# Reshape the input array to the same shape as the source image.\n",
        "lower_yellow = np.reshape([20, 100, 100], image.shape).astype(np.uint8)\n",
        "upper_yellow = np.reshape([30, 255, 255], image.shape).astype(np.uint8)\n",
        "\n",
        "highlighted_areas = cv2.inRange(image, lower_yellow, upper_yellow)\n",
        "\n",
        "highlighted_text = pytesseract.image_to_string(highlighted_areas)\n",
        "\n",
        "print(highlighted_text)"
      ],
      "metadata": {
        "colab": {
          "base_uri": "https://localhost:8080/",
          "height": 407
        },
        "id": "Np0NN2zHJNlz",
        "outputId": "afe796c6-8114-47db-bd45-0c8b03f5fb67"
      },
      "id": "Np0NN2zHJNlz",
      "execution_count": null,
      "outputs": [
        {
          "output_type": "error",
          "ename": "ValueError",
          "evalue": "ignored",
          "traceback": [
            "\u001b[0;31m---------------------------------------------------------------------------\u001b[0m",
            "\u001b[0;31mValueError\u001b[0m                                Traceback (most recent call last)",
            "\u001b[0;32m<ipython-input-17-bbb9ac442883>\u001b[0m in \u001b[0;36m<cell line: 11>\u001b[0;34m()\u001b[0m\n\u001b[1;32m      9\u001b[0m \u001b[0;34m\u001b[0m\u001b[0m\n\u001b[1;32m     10\u001b[0m \u001b[0;31m# Reshape the input array to the same shape as the source image.\u001b[0m\u001b[0;34m\u001b[0m\u001b[0;34m\u001b[0m\u001b[0m\n\u001b[0;32m---> 11\u001b[0;31m \u001b[0mlower_yellow\u001b[0m \u001b[0;34m=\u001b[0m \u001b[0mnp\u001b[0m\u001b[0;34m.\u001b[0m\u001b[0mreshape\u001b[0m\u001b[0;34m(\u001b[0m\u001b[0;34m[\u001b[0m\u001b[0;36m20\u001b[0m\u001b[0;34m,\u001b[0m \u001b[0;36m100\u001b[0m\u001b[0;34m,\u001b[0m \u001b[0;36m100\u001b[0m\u001b[0;34m]\u001b[0m\u001b[0;34m,\u001b[0m \u001b[0mimage\u001b[0m\u001b[0;34m.\u001b[0m\u001b[0mshape\u001b[0m\u001b[0;34m)\u001b[0m\u001b[0;34m.\u001b[0m\u001b[0mastype\u001b[0m\u001b[0;34m(\u001b[0m\u001b[0mnp\u001b[0m\u001b[0;34m.\u001b[0m\u001b[0muint8\u001b[0m\u001b[0;34m)\u001b[0m\u001b[0;34m\u001b[0m\u001b[0;34m\u001b[0m\u001b[0m\n\u001b[0m\u001b[1;32m     12\u001b[0m \u001b[0mupper_yellow\u001b[0m \u001b[0;34m=\u001b[0m \u001b[0mnp\u001b[0m\u001b[0;34m.\u001b[0m\u001b[0mreshape\u001b[0m\u001b[0;34m(\u001b[0m\u001b[0;34m[\u001b[0m\u001b[0;36m30\u001b[0m\u001b[0;34m,\u001b[0m \u001b[0;36m255\u001b[0m\u001b[0;34m,\u001b[0m \u001b[0;36m255\u001b[0m\u001b[0;34m]\u001b[0m\u001b[0;34m,\u001b[0m \u001b[0mimage\u001b[0m\u001b[0;34m.\u001b[0m\u001b[0mshape\u001b[0m\u001b[0;34m)\u001b[0m\u001b[0;34m.\u001b[0m\u001b[0mastype\u001b[0m\u001b[0;34m(\u001b[0m\u001b[0mnp\u001b[0m\u001b[0;34m.\u001b[0m\u001b[0muint8\u001b[0m\u001b[0;34m)\u001b[0m\u001b[0;34m\u001b[0m\u001b[0;34m\u001b[0m\u001b[0m\n\u001b[1;32m     13\u001b[0m \u001b[0;34m\u001b[0m\u001b[0m\n",
            "\u001b[0;32m/usr/local/lib/python3.10/dist-packages/numpy/core/overrides.py\u001b[0m in \u001b[0;36mreshape\u001b[0;34m(*args, **kwargs)\u001b[0m\n",
            "\u001b[0;32m/usr/local/lib/python3.10/dist-packages/numpy/core/fromnumeric.py\u001b[0m in \u001b[0;36mreshape\u001b[0;34m(a, newshape, order)\u001b[0m\n\u001b[1;32m    296\u001b[0m            [5, 6]])\n\u001b[1;32m    297\u001b[0m     \"\"\"\n\u001b[0;32m--> 298\u001b[0;31m     \u001b[0;32mreturn\u001b[0m \u001b[0m_wrapfunc\u001b[0m\u001b[0;34m(\u001b[0m\u001b[0ma\u001b[0m\u001b[0;34m,\u001b[0m \u001b[0;34m'reshape'\u001b[0m\u001b[0;34m,\u001b[0m \u001b[0mnewshape\u001b[0m\u001b[0;34m,\u001b[0m \u001b[0morder\u001b[0m\u001b[0;34m=\u001b[0m\u001b[0morder\u001b[0m\u001b[0;34m)\u001b[0m\u001b[0;34m\u001b[0m\u001b[0;34m\u001b[0m\u001b[0m\n\u001b[0m\u001b[1;32m    299\u001b[0m \u001b[0;34m\u001b[0m\u001b[0m\n\u001b[1;32m    300\u001b[0m \u001b[0;34m\u001b[0m\u001b[0m\n",
            "\u001b[0;32m/usr/local/lib/python3.10/dist-packages/numpy/core/fromnumeric.py\u001b[0m in \u001b[0;36m_wrapfunc\u001b[0;34m(obj, method, *args, **kwds)\u001b[0m\n\u001b[1;32m     52\u001b[0m     \u001b[0mbound\u001b[0m \u001b[0;34m=\u001b[0m \u001b[0mgetattr\u001b[0m\u001b[0;34m(\u001b[0m\u001b[0mobj\u001b[0m\u001b[0;34m,\u001b[0m \u001b[0mmethod\u001b[0m\u001b[0;34m,\u001b[0m \u001b[0;32mNone\u001b[0m\u001b[0;34m)\u001b[0m\u001b[0;34m\u001b[0m\u001b[0;34m\u001b[0m\u001b[0m\n\u001b[1;32m     53\u001b[0m     \u001b[0;32mif\u001b[0m \u001b[0mbound\u001b[0m \u001b[0;32mis\u001b[0m \u001b[0;32mNone\u001b[0m\u001b[0;34m:\u001b[0m\u001b[0;34m\u001b[0m\u001b[0;34m\u001b[0m\u001b[0m\n\u001b[0;32m---> 54\u001b[0;31m         \u001b[0;32mreturn\u001b[0m \u001b[0m_wrapit\u001b[0m\u001b[0;34m(\u001b[0m\u001b[0mobj\u001b[0m\u001b[0;34m,\u001b[0m \u001b[0mmethod\u001b[0m\u001b[0;34m,\u001b[0m \u001b[0;34m*\u001b[0m\u001b[0margs\u001b[0m\u001b[0;34m,\u001b[0m \u001b[0;34m**\u001b[0m\u001b[0mkwds\u001b[0m\u001b[0;34m)\u001b[0m\u001b[0;34m\u001b[0m\u001b[0;34m\u001b[0m\u001b[0m\n\u001b[0m\u001b[1;32m     55\u001b[0m \u001b[0;34m\u001b[0m\u001b[0m\n\u001b[1;32m     56\u001b[0m     \u001b[0;32mtry\u001b[0m\u001b[0;34m:\u001b[0m\u001b[0;34m\u001b[0m\u001b[0;34m\u001b[0m\u001b[0m\n",
            "\u001b[0;32m/usr/local/lib/python3.10/dist-packages/numpy/core/fromnumeric.py\u001b[0m in \u001b[0;36m_wrapit\u001b[0;34m(obj, method, *args, **kwds)\u001b[0m\n\u001b[1;32m     41\u001b[0m     \u001b[0;32mexcept\u001b[0m \u001b[0mAttributeError\u001b[0m\u001b[0;34m:\u001b[0m\u001b[0;34m\u001b[0m\u001b[0;34m\u001b[0m\u001b[0m\n\u001b[1;32m     42\u001b[0m         \u001b[0mwrap\u001b[0m \u001b[0;34m=\u001b[0m \u001b[0;32mNone\u001b[0m\u001b[0;34m\u001b[0m\u001b[0;34m\u001b[0m\u001b[0m\n\u001b[0;32m---> 43\u001b[0;31m     \u001b[0mresult\u001b[0m \u001b[0;34m=\u001b[0m \u001b[0mgetattr\u001b[0m\u001b[0;34m(\u001b[0m\u001b[0masarray\u001b[0m\u001b[0;34m(\u001b[0m\u001b[0mobj\u001b[0m\u001b[0;34m)\u001b[0m\u001b[0;34m,\u001b[0m \u001b[0mmethod\u001b[0m\u001b[0;34m)\u001b[0m\u001b[0;34m(\u001b[0m\u001b[0;34m*\u001b[0m\u001b[0margs\u001b[0m\u001b[0;34m,\u001b[0m \u001b[0;34m**\u001b[0m\u001b[0mkwds\u001b[0m\u001b[0;34m)\u001b[0m\u001b[0;34m\u001b[0m\u001b[0;34m\u001b[0m\u001b[0m\n\u001b[0m\u001b[1;32m     44\u001b[0m     \u001b[0;32mif\u001b[0m \u001b[0mwrap\u001b[0m\u001b[0;34m:\u001b[0m\u001b[0;34m\u001b[0m\u001b[0;34m\u001b[0m\u001b[0m\n\u001b[1;32m     45\u001b[0m         \u001b[0;32mif\u001b[0m \u001b[0;32mnot\u001b[0m \u001b[0misinstance\u001b[0m\u001b[0;34m(\u001b[0m\u001b[0mresult\u001b[0m\u001b[0;34m,\u001b[0m \u001b[0mmu\u001b[0m\u001b[0;34m.\u001b[0m\u001b[0mndarray\u001b[0m\u001b[0;34m)\u001b[0m\u001b[0;34m:\u001b[0m\u001b[0;34m\u001b[0m\u001b[0;34m\u001b[0m\u001b[0m\n",
            "\u001b[0;31mValueError\u001b[0m: cannot reshape array of size 3 into shape (1710,736)"
          ]
        }
      ]
    },
    {
      "cell_type": "code",
      "source": [
        "import cv2\n",
        "from PIL import Image\n",
        "import numpy as np\n",
        "import pytesseract\n",
        "import re\n",
        "\n",
        "image = Image.open(\"/content/Winn-Dixie-Weekly-Ad-–-Jan-26-–-Feb-1_-2022.png\")\n",
        "image = image.convert(\"L\")\n",
        "\n",
        "# Adjust the lower and upper boundaries for the yellow color.\n",
        "lower_yellow = np.array([10, 100, 100])\n",
        "upper_yellow = np.array([30, 255, 255])\n",
        "\n",
        "highlighted_areas = cv2.inRange(image, lower_yellow, upper_yellow)\n",
        "\n",
        "highlighted_text = pytesseract.image_to_string(highlighted_areas)\n",
        "\n",
        "# Adjust the regular expressions for the product price and product name.\n",
        "product_price_pattern = r\"\\$\\d+\\.\\d{2}\"\n",
        "product_name_pattern = r\"\\w+\\s+\\w+\"\n",
        "\n",
        "product_price = re.findall(product_price_pattern, highlighted_text)[0]\n",
        "product_name = re.findall(product_name_pattern, highlighted_text)[0]\n",
        "\n",
        "print(f\"Product price: {product_price}\")\n",
        "print(f\"Product name: {product_name}\")\n"
      ],
      "metadata": {
        "colab": {
          "base_uri": "https://localhost:8080/",
          "height": 311
        },
        "id": "scC89H7eR4ZF",
        "outputId": "5fc1de98-4cf1-4065-9adb-e9cb8603c81b"
      },
      "id": "scC89H7eR4ZF",
      "execution_count": null,
      "outputs": [
        {
          "output_type": "error",
          "ename": "error",
          "evalue": "ignored",
          "traceback": [
            "\u001b[0;31m---------------------------------------------------------------------------\u001b[0m",
            "\u001b[0;31merror\u001b[0m                                     Traceback (most recent call last)",
            "\u001b[0;32m<ipython-input-19-984f3d271888>\u001b[0m in \u001b[0;36m<cell line: 14>\u001b[0;34m()\u001b[0m\n\u001b[1;32m     12\u001b[0m \u001b[0mupper_yellow\u001b[0m \u001b[0;34m=\u001b[0m \u001b[0mnp\u001b[0m\u001b[0;34m.\u001b[0m\u001b[0marray\u001b[0m\u001b[0;34m(\u001b[0m\u001b[0;34m[\u001b[0m\u001b[0;36m30\u001b[0m\u001b[0;34m,\u001b[0m \u001b[0;36m255\u001b[0m\u001b[0;34m,\u001b[0m \u001b[0;36m255\u001b[0m\u001b[0;34m]\u001b[0m\u001b[0;34m)\u001b[0m\u001b[0;34m\u001b[0m\u001b[0;34m\u001b[0m\u001b[0m\n\u001b[1;32m     13\u001b[0m \u001b[0;34m\u001b[0m\u001b[0m\n\u001b[0;32m---> 14\u001b[0;31m \u001b[0mhighlighted_areas\u001b[0m \u001b[0;34m=\u001b[0m \u001b[0mcv2\u001b[0m\u001b[0;34m.\u001b[0m\u001b[0minRange\u001b[0m\u001b[0;34m(\u001b[0m\u001b[0mimage\u001b[0m\u001b[0;34m,\u001b[0m \u001b[0mlower_yellow\u001b[0m\u001b[0;34m,\u001b[0m \u001b[0mupper_yellow\u001b[0m\u001b[0;34m)\u001b[0m\u001b[0;34m\u001b[0m\u001b[0;34m\u001b[0m\u001b[0m\n\u001b[0m\u001b[1;32m     15\u001b[0m \u001b[0;34m\u001b[0m\u001b[0m\n\u001b[1;32m     16\u001b[0m \u001b[0mhighlighted_text\u001b[0m \u001b[0;34m=\u001b[0m \u001b[0mpytesseract\u001b[0m\u001b[0;34m.\u001b[0m\u001b[0mimage_to_string\u001b[0m\u001b[0;34m(\u001b[0m\u001b[0mhighlighted_areas\u001b[0m\u001b[0;34m)\u001b[0m\u001b[0;34m\u001b[0m\u001b[0;34m\u001b[0m\u001b[0m\n",
            "\u001b[0;31merror\u001b[0m: OpenCV(4.8.0) :-1: error: (-5:Bad argument) in function 'inRange'\n> Overload resolution failed:\n>  - src is not a numpy array, neither a scalar\n>  - Expected Ptr<cv::UMat> for argument 'src'\n"
          ]
        }
      ]
    },
    {
      "cell_type": "code",
      "source": [
        "import cv2\n",
        "import pytesseract\n",
        "from pytesseract import Output\n",
        "\n",
        "img = cv2.imread('/content/Soujanya Dash latest IELTS result.jpg')\n",
        "\n",
        "d = pytesseract.image_to_data(img, output_type=Output.DICT)\n",
        "print(d.keys())"
      ],
      "metadata": {
        "colab": {
          "base_uri": "https://localhost:8080/",
          "height": 479
        },
        "id": "ci9juFemULtY",
        "outputId": "ac2c7580-c991-4f4e-b49e-ab412dd1ef97"
      },
      "id": "ci9juFemULtY",
      "execution_count": null,
      "outputs": [
        {
          "output_type": "error",
          "ename": "TesseractNotFoundError",
          "evalue": "ignored",
          "traceback": [
            "\u001b[0;31m---------------------------------------------------------------------------\u001b[0m",
            "\u001b[0;31mFileNotFoundError\u001b[0m                         Traceback (most recent call last)",
            "\u001b[0;32m/usr/local/lib/python3.10/dist-packages/pytesseract/pytesseract.py\u001b[0m in \u001b[0;36mget_tesseract_version\u001b[0;34m()\u001b[0m\n\u001b[1;32m    387\u001b[0m     \u001b[0;32mtry\u001b[0m\u001b[0;34m:\u001b[0m\u001b[0;34m\u001b[0m\u001b[0;34m\u001b[0m\u001b[0m\n\u001b[0;32m--> 388\u001b[0;31m         output = subprocess.check_output(\n\u001b[0m\u001b[1;32m    389\u001b[0m             \u001b[0;34m[\u001b[0m\u001b[0mtesseract_cmd\u001b[0m\u001b[0;34m,\u001b[0m \u001b[0;34m'--version'\u001b[0m\u001b[0;34m]\u001b[0m\u001b[0;34m,\u001b[0m\u001b[0;34m\u001b[0m\u001b[0;34m\u001b[0m\u001b[0m\n",
            "\u001b[0;32m/usr/lib/python3.10/subprocess.py\u001b[0m in \u001b[0;36mcheck_output\u001b[0;34m(timeout, *popenargs, **kwargs)\u001b[0m\n\u001b[1;32m    420\u001b[0m \u001b[0;34m\u001b[0m\u001b[0m\n\u001b[0;32m--> 421\u001b[0;31m     return run(*popenargs, stdout=PIPE, timeout=timeout, check=True,\n\u001b[0m\u001b[1;32m    422\u001b[0m                **kwargs).stdout\n",
            "\u001b[0;32m/usr/lib/python3.10/subprocess.py\u001b[0m in \u001b[0;36mrun\u001b[0;34m(input, capture_output, timeout, check, *popenargs, **kwargs)\u001b[0m\n\u001b[1;32m    502\u001b[0m \u001b[0;34m\u001b[0m\u001b[0m\n\u001b[0;32m--> 503\u001b[0;31m     \u001b[0;32mwith\u001b[0m \u001b[0mPopen\u001b[0m\u001b[0;34m(\u001b[0m\u001b[0;34m*\u001b[0m\u001b[0mpopenargs\u001b[0m\u001b[0;34m,\u001b[0m \u001b[0;34m**\u001b[0m\u001b[0mkwargs\u001b[0m\u001b[0;34m)\u001b[0m \u001b[0;32mas\u001b[0m \u001b[0mprocess\u001b[0m\u001b[0;34m:\u001b[0m\u001b[0;34m\u001b[0m\u001b[0;34m\u001b[0m\u001b[0m\n\u001b[0m\u001b[1;32m    504\u001b[0m         \u001b[0;32mtry\u001b[0m\u001b[0;34m:\u001b[0m\u001b[0;34m\u001b[0m\u001b[0;34m\u001b[0m\u001b[0m\n",
            "\u001b[0;32m/usr/lib/python3.10/subprocess.py\u001b[0m in \u001b[0;36m__init__\u001b[0;34m(self, args, bufsize, executable, stdin, stdout, stderr, preexec_fn, close_fds, shell, cwd, env, universal_newlines, startupinfo, creationflags, restore_signals, start_new_session, pass_fds, user, group, extra_groups, encoding, errors, text, umask, pipesize)\u001b[0m\n\u001b[1;32m    970\u001b[0m \u001b[0;34m\u001b[0m\u001b[0m\n\u001b[0;32m--> 971\u001b[0;31m             self._execute_child(args, executable, preexec_fn, close_fds,\n\u001b[0m\u001b[1;32m    972\u001b[0m                                 \u001b[0mpass_fds\u001b[0m\u001b[0;34m,\u001b[0m \u001b[0mcwd\u001b[0m\u001b[0;34m,\u001b[0m \u001b[0menv\u001b[0m\u001b[0;34m,\u001b[0m\u001b[0;34m\u001b[0m\u001b[0;34m\u001b[0m\u001b[0m\n",
            "\u001b[0;32m/usr/lib/python3.10/subprocess.py\u001b[0m in \u001b[0;36m_execute_child\u001b[0;34m(self, args, executable, preexec_fn, close_fds, pass_fds, cwd, env, startupinfo, creationflags, shell, p2cread, p2cwrite, c2pread, c2pwrite, errread, errwrite, restore_signals, gid, gids, uid, umask, start_new_session)\u001b[0m\n\u001b[1;32m   1862\u001b[0m                         \u001b[0merr_msg\u001b[0m \u001b[0;34m=\u001b[0m \u001b[0mos\u001b[0m\u001b[0;34m.\u001b[0m\u001b[0mstrerror\u001b[0m\u001b[0;34m(\u001b[0m\u001b[0merrno_num\u001b[0m\u001b[0;34m)\u001b[0m\u001b[0;34m\u001b[0m\u001b[0;34m\u001b[0m\u001b[0m\n\u001b[0;32m-> 1863\u001b[0;31m                     \u001b[0;32mraise\u001b[0m \u001b[0mchild_exception_type\u001b[0m\u001b[0;34m(\u001b[0m\u001b[0merrno_num\u001b[0m\u001b[0;34m,\u001b[0m \u001b[0merr_msg\u001b[0m\u001b[0;34m,\u001b[0m \u001b[0merr_filename\u001b[0m\u001b[0;34m)\u001b[0m\u001b[0;34m\u001b[0m\u001b[0;34m\u001b[0m\u001b[0m\n\u001b[0m\u001b[1;32m   1864\u001b[0m                 \u001b[0;32mraise\u001b[0m \u001b[0mchild_exception_type\u001b[0m\u001b[0;34m(\u001b[0m\u001b[0merr_msg\u001b[0m\u001b[0;34m)\u001b[0m\u001b[0;34m\u001b[0m\u001b[0;34m\u001b[0m\u001b[0m\n",
            "\u001b[0;31mFileNotFoundError\u001b[0m: [Errno 2] No such file or directory: '/usr/local/lib/python3.10/dist-packages (0.1.3)'",
            "\nDuring handling of the above exception, another exception occurred:\n",
            "\u001b[0;31mTesseractNotFoundError\u001b[0m                    Traceback (most recent call last)",
            "\u001b[0;32m<ipython-input-25-b957145ab8c4>\u001b[0m in \u001b[0;36m<cell line: 7>\u001b[0;34m()\u001b[0m\n\u001b[1;32m      5\u001b[0m \u001b[0mimg\u001b[0m \u001b[0;34m=\u001b[0m \u001b[0mcv2\u001b[0m\u001b[0;34m.\u001b[0m\u001b[0mimread\u001b[0m\u001b[0;34m(\u001b[0m\u001b[0;34m'/content/Soujanya Dash latest IELTS result.jpg'\u001b[0m\u001b[0;34m)\u001b[0m\u001b[0;34m\u001b[0m\u001b[0;34m\u001b[0m\u001b[0m\n\u001b[1;32m      6\u001b[0m \u001b[0;34m\u001b[0m\u001b[0m\n\u001b[0;32m----> 7\u001b[0;31m \u001b[0md\u001b[0m \u001b[0;34m=\u001b[0m \u001b[0mpytesseract\u001b[0m\u001b[0;34m.\u001b[0m\u001b[0mimage_to_data\u001b[0m\u001b[0;34m(\u001b[0m\u001b[0mimg\u001b[0m\u001b[0;34m,\u001b[0m \u001b[0moutput_type\u001b[0m\u001b[0;34m=\u001b[0m\u001b[0mOutput\u001b[0m\u001b[0;34m.\u001b[0m\u001b[0mDICT\u001b[0m\u001b[0;34m)\u001b[0m\u001b[0;34m\u001b[0m\u001b[0;34m\u001b[0m\u001b[0m\n\u001b[0m\u001b[1;32m      8\u001b[0m \u001b[0mprint\u001b[0m\u001b[0;34m(\u001b[0m\u001b[0md\u001b[0m\u001b[0;34m.\u001b[0m\u001b[0mkeys\u001b[0m\u001b[0;34m(\u001b[0m\u001b[0;34m)\u001b[0m\u001b[0;34m)\u001b[0m\u001b[0;34m\u001b[0m\u001b[0;34m\u001b[0m\u001b[0m\n",
            "\u001b[0;32m/usr/local/lib/python3.10/dist-packages/pytesseract/pytesseract.py\u001b[0m in \u001b[0;36mimage_to_data\u001b[0;34m(image, lang, config, nice, output_type, timeout, pandas_config)\u001b[0m\n\u001b[1;32m    519\u001b[0m     \"\"\"\n\u001b[1;32m    520\u001b[0m \u001b[0;34m\u001b[0m\u001b[0m\n\u001b[0;32m--> 521\u001b[0;31m     \u001b[0;32mif\u001b[0m \u001b[0mget_tesseract_version\u001b[0m\u001b[0;34m(\u001b[0m\u001b[0;34m)\u001b[0m \u001b[0;34m<\u001b[0m \u001b[0mTESSERACT_MIN_VERSION\u001b[0m\u001b[0;34m:\u001b[0m\u001b[0;34m\u001b[0m\u001b[0;34m\u001b[0m\u001b[0m\n\u001b[0m\u001b[1;32m    522\u001b[0m         \u001b[0;32mraise\u001b[0m \u001b[0mTSVNotSupported\u001b[0m\u001b[0;34m(\u001b[0m\u001b[0;34m)\u001b[0m\u001b[0;34m\u001b[0m\u001b[0;34m\u001b[0m\u001b[0m\n\u001b[1;32m    523\u001b[0m \u001b[0;34m\u001b[0m\u001b[0m\n",
            "\u001b[0;32m/usr/local/lib/python3.10/dist-packages/pytesseract/pytesseract.py\u001b[0m in \u001b[0;36mwrapper\u001b[0;34m(*args, **kwargs)\u001b[0m\n\u001b[1;32m    144\u001b[0m     \u001b[0;32mdef\u001b[0m \u001b[0mwrapper\u001b[0m\u001b[0;34m(\u001b[0m\u001b[0;34m*\u001b[0m\u001b[0margs\u001b[0m\u001b[0;34m,\u001b[0m \u001b[0;34m**\u001b[0m\u001b[0mkwargs\u001b[0m\u001b[0;34m)\u001b[0m\u001b[0;34m:\u001b[0m\u001b[0;34m\u001b[0m\u001b[0;34m\u001b[0m\u001b[0m\n\u001b[1;32m    145\u001b[0m         \u001b[0;32mif\u001b[0m \u001b[0mwrapper\u001b[0m\u001b[0;34m.\u001b[0m\u001b[0m_result\u001b[0m \u001b[0;32mis\u001b[0m \u001b[0mwrapper\u001b[0m\u001b[0;34m:\u001b[0m\u001b[0;34m\u001b[0m\u001b[0;34m\u001b[0m\u001b[0m\n\u001b[0;32m--> 146\u001b[0;31m             \u001b[0mwrapper\u001b[0m\u001b[0;34m.\u001b[0m\u001b[0m_result\u001b[0m \u001b[0;34m=\u001b[0m \u001b[0mfunc\u001b[0m\u001b[0;34m(\u001b[0m\u001b[0;34m*\u001b[0m\u001b[0margs\u001b[0m\u001b[0;34m,\u001b[0m \u001b[0;34m**\u001b[0m\u001b[0mkwargs\u001b[0m\u001b[0;34m)\u001b[0m\u001b[0;34m\u001b[0m\u001b[0;34m\u001b[0m\u001b[0m\n\u001b[0m\u001b[1;32m    147\u001b[0m         \u001b[0;32mreturn\u001b[0m \u001b[0mwrapper\u001b[0m\u001b[0;34m.\u001b[0m\u001b[0m_result\u001b[0m\u001b[0;34m\u001b[0m\u001b[0;34m\u001b[0m\u001b[0m\n\u001b[1;32m    148\u001b[0m \u001b[0;34m\u001b[0m\u001b[0m\n",
            "\u001b[0;32m/usr/local/lib/python3.10/dist-packages/pytesseract/pytesseract.py\u001b[0m in \u001b[0;36mget_tesseract_version\u001b[0;34m()\u001b[0m\n\u001b[1;32m    393\u001b[0m         )\n\u001b[1;32m    394\u001b[0m     \u001b[0;32mexcept\u001b[0m \u001b[0mOSError\u001b[0m\u001b[0;34m:\u001b[0m\u001b[0;34m\u001b[0m\u001b[0;34m\u001b[0m\u001b[0m\n\u001b[0;32m--> 395\u001b[0;31m         \u001b[0;32mraise\u001b[0m \u001b[0mTesseractNotFoundError\u001b[0m\u001b[0;34m(\u001b[0m\u001b[0;34m)\u001b[0m\u001b[0;34m\u001b[0m\u001b[0;34m\u001b[0m\u001b[0m\n\u001b[0m\u001b[1;32m    396\u001b[0m \u001b[0;34m\u001b[0m\u001b[0m\n\u001b[1;32m    397\u001b[0m     \u001b[0mraw_version\u001b[0m \u001b[0;34m=\u001b[0m \u001b[0moutput\u001b[0m\u001b[0;34m.\u001b[0m\u001b[0mdecode\u001b[0m\u001b[0;34m(\u001b[0m\u001b[0mDEFAULT_ENCODING\u001b[0m\u001b[0;34m)\u001b[0m\u001b[0;34m\u001b[0m\u001b[0;34m\u001b[0m\u001b[0m\n",
            "\u001b[0;31mTesseractNotFoundError\u001b[0m: /usr/local/lib/python3.10/dist-packages (0.1.3) is not installed or it's not in your PATH. See README file for more information."
          ]
        }
      ]
    },
    {
      "cell_type": "markdown",
      "source": [
        "**Latest update**"
      ],
      "metadata": {
        "id": "cE7LEoq1Iefy"
      },
      "id": "cE7LEoq1Iefy"
    },
    {
      "cell_type": "code",
      "source": [
        "# OCR Preprocessing with Open CV\n",
        "!pip install OpenCV-python"
      ],
      "metadata": {
        "colab": {
          "base_uri": "https://localhost:8080/"
        },
        "id": "ZLVO4AVnIR3X",
        "outputId": "3c9aa5f3-012d-4d47-a7b9-cf58f0214c26"
      },
      "id": "ZLVO4AVnIR3X",
      "execution_count": null,
      "outputs": [
        {
          "output_type": "stream",
          "name": "stdout",
          "text": [
            "Requirement already satisfied: OpenCV-python in /usr/local/lib/python3.10/dist-packages (4.8.0.76)\n",
            "Requirement already satisfied: numpy>=1.21.2 in /usr/local/lib/python3.10/dist-packages (from OpenCV-python) (1.23.5)\n"
          ]
        }
      ]
    },
    {
      "cell_type": "code",
      "source": [
        "import cv2\n",
        "import numpy as np"
      ],
      "metadata": {
        "id": "VPCHt3x5IduZ"
      },
      "id": "VPCHt3x5IduZ",
      "execution_count": null,
      "outputs": []
    },
    {
      "cell_type": "code",
      "source": [
        "norm_img = np.zeros((image.shape[0], image.shape[1]))\n",
        "img = cv2.normalize(img, norm_img, 0, 255, cv2.NORM_MINMAX)"
      ],
      "metadata": {
        "colab": {
          "base_uri": "https://localhost:8080/",
          "height": 329
        },
        "id": "iv7hPzO5I5zj",
        "outputId": "fef2ff38-bdb7-4974-a0e2-0344aca63476"
      },
      "id": "iv7hPzO5I5zj",
      "execution_count": null,
      "outputs": [
        {
          "output_type": "error",
          "ename": "AttributeError",
          "evalue": "ignored",
          "traceback": [
            "\u001b[0;31m---------------------------------------------------------------------------\u001b[0m",
            "\u001b[0;31mAttributeError\u001b[0m                            Traceback (most recent call last)",
            "\u001b[0;32m<ipython-input-7-6147e07fd4b6>\u001b[0m in \u001b[0;36m<cell line: 1>\u001b[0;34m()\u001b[0m\n\u001b[0;32m----> 1\u001b[0;31m \u001b[0mnorm_img\u001b[0m \u001b[0;34m=\u001b[0m \u001b[0mnp\u001b[0m\u001b[0;34m.\u001b[0m\u001b[0mzeros\u001b[0m\u001b[0;34m(\u001b[0m\u001b[0;34m(\u001b[0m\u001b[0mimage\u001b[0m\u001b[0;34m.\u001b[0m\u001b[0mshape\u001b[0m\u001b[0;34m[\u001b[0m\u001b[0;36m0\u001b[0m\u001b[0;34m]\u001b[0m\u001b[0;34m,\u001b[0m \u001b[0mimage\u001b[0m\u001b[0;34m.\u001b[0m\u001b[0mshape\u001b[0m\u001b[0;34m[\u001b[0m\u001b[0;36m1\u001b[0m\u001b[0;34m]\u001b[0m\u001b[0;34m)\u001b[0m\u001b[0;34m)\u001b[0m\u001b[0;34m\u001b[0m\u001b[0;34m\u001b[0m\u001b[0m\n\u001b[0m\u001b[1;32m      2\u001b[0m \u001b[0mimg\u001b[0m \u001b[0;34m=\u001b[0m \u001b[0mcv2\u001b[0m\u001b[0;34m.\u001b[0m\u001b[0mnormalize\u001b[0m\u001b[0;34m(\u001b[0m\u001b[0mimg\u001b[0m\u001b[0;34m,\u001b[0m \u001b[0mnorm_img\u001b[0m\u001b[0;34m,\u001b[0m \u001b[0;36m0\u001b[0m\u001b[0;34m,\u001b[0m \u001b[0;36m255\u001b[0m\u001b[0;34m,\u001b[0m \u001b[0mcv2\u001b[0m\u001b[0;34m.\u001b[0m\u001b[0mNORM_MINMAX\u001b[0m\u001b[0;34m)\u001b[0m\u001b[0;34m\u001b[0m\u001b[0;34m\u001b[0m\u001b[0m\n",
            "\u001b[0;32m/usr/local/lib/python3.10/dist-packages/PIL/Image.py\u001b[0m in \u001b[0;36m__getattr__\u001b[0;34m(self, name)\u001b[0m\n\u001b[1;32m    527\u001b[0m             \u001b[0mdeprecate\u001b[0m\u001b[0;34m(\u001b[0m\u001b[0;34m\"Image categories\"\u001b[0m\u001b[0;34m,\u001b[0m \u001b[0;36m10\u001b[0m\u001b[0;34m,\u001b[0m \u001b[0;34m\"is_animated\"\u001b[0m\u001b[0;34m,\u001b[0m \u001b[0mplural\u001b[0m\u001b[0;34m=\u001b[0m\u001b[0;32mTrue\u001b[0m\u001b[0;34m)\u001b[0m\u001b[0;34m\u001b[0m\u001b[0;34m\u001b[0m\u001b[0m\n\u001b[1;32m    528\u001b[0m             \u001b[0;32mreturn\u001b[0m \u001b[0mself\u001b[0m\u001b[0;34m.\u001b[0m\u001b[0m_category\u001b[0m\u001b[0;34m\u001b[0m\u001b[0;34m\u001b[0m\u001b[0m\n\u001b[0;32m--> 529\u001b[0;31m         \u001b[0;32mraise\u001b[0m \u001b[0mAttributeError\u001b[0m\u001b[0;34m(\u001b[0m\u001b[0mname\u001b[0m\u001b[0;34m)\u001b[0m\u001b[0;34m\u001b[0m\u001b[0;34m\u001b[0m\u001b[0m\n\u001b[0m\u001b[1;32m    530\u001b[0m \u001b[0;34m\u001b[0m\u001b[0m\n\u001b[1;32m    531\u001b[0m     \u001b[0;34m@\u001b[0m\u001b[0mproperty\u001b[0m\u001b[0;34m\u001b[0m\u001b[0;34m\u001b[0m\u001b[0m\n",
            "\u001b[0;31mAttributeError\u001b[0m: shape"
          ]
        }
      ]
    },
    {
      "cell_type": "code",
      "source": [
        "def extract_all(img_src):\n",
        "    # Extract all text as one string\n",
        "    string_ocr = pytesseract.image_to_string(\n",
        "        img_thresh, lang='eng', config='--psm 6')\n",
        "    # Extract all text and meta data as dictionary\n",
        "    data_ocr = pytesseract.image_to_data(\n",
        "        img_src, lang='eng', config='--psm 6', output_type=Output.DICT)\n",
        "    # Copy source image to draw rectangles\n",
        "    img_result = img_src.copy()\n",
        "\n",
        "    # Iterate through all words\n",
        "    for i in range(len(data_ocr['text'])):\n",
        "        # Skip other levels than 5 (word)\n",
        "        if data_ocr['level'][i] != Levels.WORD:\n",
        "            continue\n",
        "        # Get bounding box position and size of word\n",
        "        (x, y, w, h) = (data_ocr['left'][i], data_ocr['top']\n",
        "                        [i], data_ocr['width'][i], data_ocr['height'][i])\n",
        "        # Draw rectangle for word bounding box\n",
        "        cv2.rectangle(img_result, (x, y), (x + w, y + h), (0,0,255), 2)\n",
        "\n",
        "    return img_result"
      ],
      "metadata": {
        "id": "esiEY3bUuKwD"
      },
      "id": "esiEY3bUuKwD",
      "execution_count": null,
      "outputs": []
    }
  ],
  "metadata": {
    "kernelspec": {
      "display_name": "Python 3",
      "language": "python",
      "name": "python3"
    },
    "language_info": {
      "codemirror_mode": {
        "name": "ipython",
        "version": 3
      },
      "file_extension": ".py",
      "mimetype": "text/x-python",
      "name": "python",
      "nbconvert_exporter": "python",
      "pygments_lexer": "ipython3",
      "version": "3.8.3"
    },
    "colab": {
      "provenance": []
    }
  },
  "nbformat": 4,
  "nbformat_minor": 5
}
